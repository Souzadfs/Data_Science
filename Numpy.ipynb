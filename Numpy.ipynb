{
  "nbformat": 4,
  "nbformat_minor": 0,
  "metadata": {
    "colab": {
      "private_outputs": true,
      "provenance": [],
      "authorship_tag": "ABX9TyPWg7vf14FiGifTAgsvnyN3",
      "include_colab_link": true
    },
    "kernelspec": {
      "name": "python3",
      "display_name": "Python 3"
    },
    "language_info": {
      "name": "python"
    }
  },
  "cells": [
    {
      "cell_type": "markdown",
      "metadata": {
        "id": "view-in-github",
        "colab_type": "text"
      },
      "source": [
        "<a href=\"https://colab.research.google.com/github/Souzadfs/Data_Science/blob/main/Numpy.ipynb\" target=\"_parent\"><img src=\"https://colab.research.google.com/assets/colab-badge.svg\" alt=\"Open In Colab\"/></a>"
      ]
    },
    {
      "cell_type": "code",
      "execution_count": null,
      "metadata": {
        "id": "kYwk02Ch_CJP"
      },
      "outputs": [],
      "source": [
        "import numpy as np"
      ]
    },
    {
      "cell_type": "markdown",
      "source": [
        " Criar uma matriz unidimensional"
      ],
      "metadata": {
        "id": "t1_Nb9arDCLV"
      }
    },
    {
      "cell_type": "code",
      "source": [
        "mt = np.array ([11,12,13,14,15])\n",
        "print(mt)\n",
        "type(mt)"
      ],
      "metadata": {
        "id": "sYfEPcfsC9Lg"
      },
      "execution_count": null,
      "outputs": []
    },
    {
      "cell_type": "code",
      "source": [
        "#Create array with a specific type\n",
        "#Create array as float of 64 bits\n",
        "\n",
        "mtfloat = np.array([1,2,3,4,5,6], dtype = np.float64)\n",
        "print(mtfloat)\n",
        "print(type(mtfloat))\n",
        "\n",
        "mtint = np.array([1,2,3,4,5,6], dtype = np.int32)\n",
        "print(mtint)\n",
        "print(type(mtint))\n"
      ],
      "metadata": {
        "id": "-fGWzvnpC9O7"
      },
      "execution_count": null,
      "outputs": []
    },
    {
      "cell_type": "code",
      "source": [
        "#Change type of array for int\n",
        "\n",
        "mt01 = np.array([1.222,3.4222,1.243,45.2425])\n",
        "print(mt01)\n",
        "mt02 = mt01.astype(np.int32)\n",
        "print(mt02)"
      ],
      "metadata": {
        "id": "G--gYWpFC9Q5"
      },
      "execution_count": null,
      "outputs": []
    },
    {
      "cell_type": "code",
      "source": [
        "#Change type of array for float\n",
        "\n",
        "mt03 = np.array([1,2,3,4,5,66])\n",
        "print(mt03)\n",
        "mt04 = mt03.astype(np.float64)\n",
        "print(mt04)"
      ],
      "metadata": {
        "id": "DifPOhChC9Tl"
      },
      "execution_count": null,
      "outputs": []
    },
    {
      "cell_type": "code",
      "source": [
        "# More than one dimensional\n",
        "# Created a two-bidimensional array\n",
        "\n",
        "mt05 = np.array([[1,2,3,4],[4,3,2,1],[9,8,8,7]])\n",
        "print(mt05)"
      ],
      "metadata": {
        "id": "q23OEfjlC9WN"
      },
      "execution_count": null,
      "outputs": []
    },
    {
      "cell_type": "code",
      "source": [
        "#Create a array typifield\n",
        "\n",
        "vazio = np.empty([3,2], dtype = int)\n",
        "print(vazio)\n",
        "print('---------------------------------------------')\n",
        "\n",
        "# Create a array (4 x 3) with value zero\n",
        "\n",
        "zero = np.zeros([4,3])\n",
        "print(zero)\n",
        "print(\"----------------------------------------------\")\n",
        "\n",
        "#Create a array (5 x 7) with value one\n",
        "one = np.ones([5,7])\n",
        "print(one)\n",
        "\n",
        "diagonal = np.eye(5)\n",
        "print(diagonal)\n"
      ],
      "metadata": {
        "id": "xUToUqjqC9Yv"
      },
      "execution_count": null,
      "outputs": []
    },
    {
      "cell_type": "code",
      "source": [
        "diagonal = np.eye(5)\n",
        "print(diagonal)"
      ],
      "metadata": {
        "id": "-YOOMzXZC9bW"
      },
      "execution_count": null,
      "outputs": []
    },
    {
      "cell_type": "code",
      "source": [],
      "metadata": {
        "id": "XzEdPuOWC9d5"
      },
      "execution_count": null,
      "outputs": []
    },
    {
      "cell_type": "code",
      "source": [],
      "metadata": {
        "id": "oTXprJztC9go"
      },
      "execution_count": null,
      "outputs": []
    },
    {
      "cell_type": "code",
      "source": [],
      "metadata": {
        "id": "977a_fA5C9ja"
      },
      "execution_count": null,
      "outputs": []
    },
    {
      "cell_type": "code",
      "source": [],
      "metadata": {
        "id": "JhoGQENFC9mD"
      },
      "execution_count": null,
      "outputs": []
    },
    {
      "cell_type": "code",
      "source": [],
      "metadata": {
        "id": "sLE8RWAVC9o5"
      },
      "execution_count": null,
      "outputs": []
    },
    {
      "cell_type": "code",
      "source": [],
      "metadata": {
        "id": "qqWPny75C9rk"
      },
      "execution_count": null,
      "outputs": []
    },
    {
      "cell_type": "code",
      "source": [],
      "metadata": {
        "id": "eFTCWCCOC9ua"
      },
      "execution_count": null,
      "outputs": []
    },
    {
      "cell_type": "code",
      "source": [],
      "metadata": {
        "id": "BqomLgBHC9w3"
      },
      "execution_count": null,
      "outputs": []
    },
    {
      "cell_type": "code",
      "source": [],
      "metadata": {
        "id": "2zehG8QdC9zk"
      },
      "execution_count": null,
      "outputs": []
    },
    {
      "cell_type": "code",
      "source": [],
      "metadata": {
        "id": "GOiZEdn_C92P"
      },
      "execution_count": null,
      "outputs": []
    },
    {
      "cell_type": "code",
      "source": [],
      "metadata": {
        "id": "8XXCIa8UC940"
      },
      "execution_count": null,
      "outputs": []
    },
    {
      "cell_type": "code",
      "source": [],
      "metadata": {
        "id": "iR0GVW64C973"
      },
      "execution_count": null,
      "outputs": []
    },
    {
      "cell_type": "code",
      "source": [],
      "metadata": {
        "id": "GwxnuUOGC9-l"
      },
      "execution_count": null,
      "outputs": []
    },
    {
      "cell_type": "code",
      "source": [],
      "metadata": {
        "id": "sOGclNqNC-Ba"
      },
      "execution_count": null,
      "outputs": []
    },
    {
      "cell_type": "code",
      "source": [],
      "metadata": {
        "id": "qWW7l4R0C-EF"
      },
      "execution_count": null,
      "outputs": []
    },
    {
      "cell_type": "code",
      "source": [],
      "metadata": {
        "id": "P12ke5KNC-G7"
      },
      "execution_count": null,
      "outputs": []
    },
    {
      "cell_type": "code",
      "source": [],
      "metadata": {
        "id": "UqWXhjanC-Jw"
      },
      "execution_count": null,
      "outputs": []
    },
    {
      "cell_type": "code",
      "source": [],
      "metadata": {
        "id": "yeSJNy7sC-MI"
      },
      "execution_count": null,
      "outputs": []
    },
    {
      "cell_type": "code",
      "source": [],
      "metadata": {
        "id": "vWMtlL5uC-QO"
      },
      "execution_count": null,
      "outputs": []
    }
  ]
}