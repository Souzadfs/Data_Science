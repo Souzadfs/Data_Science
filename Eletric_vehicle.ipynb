{
  "nbformat": 4,
  "nbformat_minor": 0,
  "metadata": {
    "colab": {
      "private_outputs": true,
      "provenance": [],
      "authorship_tag": "ABX9TyMzpiWfY6MD3BU8itPWFcgH",
      "include_colab_link": true
    },
    "kernelspec": {
      "name": "python3",
      "display_name": "Python 3"
    },
    "language_info": {
      "name": "python"
    }
  },
  "cells": [
    {
      "cell_type": "markdown",
      "metadata": {
        "id": "view-in-github",
        "colab_type": "text"
      },
      "source": [
        "<a href=\"https://colab.research.google.com/github/Souzadfs/Data_Science/blob/main/Eletric_vehicle.ipynb\" target=\"_parent\"><img src=\"https://colab.research.google.com/assets/colab-badge.svg\" alt=\"Open In Colab\"/></a>"
      ]
    },
    {
      "cell_type": "code",
      "execution_count": null,
      "metadata": {
        "id": "RRfP4pJK99xf"
      },
      "outputs": [],
      "source": [
        "import pandas as pd\n",
        "import numpy as np"
      ]
    },
    {
      "cell_type": "code",
      "source": [
        "df = pd.read_csv('electric_vehicle_population_data.csv')"
      ],
      "metadata": {
        "id": "6Q8Jxyda-G5e"
      },
      "execution_count": null,
      "outputs": []
    },
    {
      "cell_type": "code",
      "source": [
        "df.info\n",
        "df.isnull().sum()"
      ],
      "metadata": {
        "id": "L2U_sbAs-kyK"
      },
      "execution_count": null,
      "outputs": []
    },
    {
      "cell_type": "code",
      "source": [
        "df = df.replace('%','',regex=True)\n",
        "df = df.replace(',','',regex=True)\n",
        "df = df.replace(',',np.nan)\n",
        "df = df.dropna()\n",
        "df.isnull().sum()\n",
        "\n",
        "list = [\"County\",\"City\",\"State\",\"Postal Code\",\"Model Year\",\"Make\",\"Model\",\"Electric Vehicle Type\"]\n",
        "\n",
        "df.dtypes\n"
      ],
      "metadata": {
        "id": "g5GPzwQM-k2S"
      },
      "execution_count": null,
      "outputs": []
    },
    {
      "cell_type": "code",
      "source": [
        "df.head()"
      ],
      "metadata": {
        "id": "YrvDhOWE-k5o"
      },
      "execution_count": null,
      "outputs": []
    },
    {
      "cell_type": "code",
      "source": [
        "num_registro = len(df)\n",
        "print(num_registro)"
      ],
      "metadata": {
        "id": "oof7JdA3-k8x"
      },
      "execution_count": null,
      "outputs": []
    },
    {
      "cell_type": "code",
      "source": [
        "colunas = df.columns\n",
        "print(colunas)\n"
      ],
      "metadata": {
        "id": "_Fa5s3UJ-k_q"
      },
      "execution_count": null,
      "outputs": []
    },
    {
      "cell_type": "code",
      "source": [
        "duplicados = df[df.duplicated()]\n",
        "print(duplicados)"
      ],
      "metadata": {
        "id": "yi2rUrI6-lGC"
      },
      "execution_count": null,
      "outputs": []
    },
    {
      "cell_type": "code",
      "source": [
        "import seaborn as sns\n",
        "import matplotlib.pyplot as plt\n",
        "import matplotlib"
      ],
      "metadata": {
        "id": "7c76e1FijnfM"
      },
      "execution_count": null,
      "outputs": []
    },
    {
      "cell_type": "code",
      "source": [
        "%matplotlib inline\n",
        "sns.set_style('darkgrid')\n",
        "plt.rcParams['font.size'] = 14\n",
        "plt.rcParams['figure.figsize'] = [10,14]\n",
        "plt.rcParams['figure.facecolor'] = '#00000000'"
      ],
      "metadata": {
        "id": "8SKSPWvvjnhS"
      },
      "execution_count": null,
      "outputs": []
    },
    {
      "cell_type": "code",
      "source": [],
      "metadata": {
        "id": "YdrbM0xhjnvH"
      },
      "execution_count": null,
      "outputs": []
    }
  ]
}