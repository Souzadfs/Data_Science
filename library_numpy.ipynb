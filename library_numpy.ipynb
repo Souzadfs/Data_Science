{
  "nbformat": 4,
  "nbformat_minor": 0,
  "metadata": {
    "colab": {
      "private_outputs": true,
      "provenance": [],
      "authorship_tag": "ABX9TyMSOvbhRHNh7xlhDTpQqTEC",
      "include_colab_link": true
    },
    "kernelspec": {
      "name": "python3",
      "display_name": "Python 3"
    },
    "language_info": {
      "name": "python"
    }
  },
  "cells": [
    {
      "cell_type": "markdown",
      "metadata": {
        "id": "view-in-github",
        "colab_type": "text"
      },
      "source": [
        "<a href=\"https://colab.research.google.com/github/Souzadfs/Data_Science/blob/main/library_numpy.ipynb\" target=\"_parent\"><img src=\"https://colab.research.google.com/assets/colab-badge.svg\" alt=\"Open In Colab\"/></a>"
      ]
    },
    {
      "cell_type": "code",
      "execution_count": null,
      "metadata": {
        "id": "YsHQNzf6OLYJ"
      },
      "outputs": [],
      "source": [
        "import numpy as np"
      ]
    },
    {
      "cell_type": "code",
      "source": [
        "dados=np.random.rand (2,3)"
      ],
      "metadata": {
        "id": "Okf6-5hkO4GV"
      },
      "execution_count": null,
      "outputs": []
    },
    {
      "cell_type": "markdown",
      "source": [
        "#Generate (2x3) NDarray ( two list with 3 elements)"
      ],
      "metadata": {
        "id": "KnPlM1ACPv0P"
      }
    },
    {
      "cell_type": "code",
      "source": [
        "dados"
      ],
      "metadata": {
        "id": "54kfMQTjO4JI"
      },
      "execution_count": null,
      "outputs": []
    },
    {
      "cell_type": "code",
      "source": [
        "dados.dtype"
      ],
      "metadata": {
        "id": "gcHGpC_hO4P0"
      },
      "execution_count": null,
      "outputs": []
    },
    {
      "cell_type": "code",
      "source": [
        "dados.shape"
      ],
      "metadata": {
        "id": "VQ1LZViSO4LF"
      },
      "execution_count": null,
      "outputs": []
    },
    {
      "cell_type": "code",
      "source": [
        "dados.ndim"
      ],
      "metadata": {
        "id": "MuUQBPiVQMDE"
      },
      "execution_count": null,
      "outputs": []
    },
    {
      "cell_type": "markdown",
      "source": [
        "#Creating an NDarray using the array fuction\n",
        ""
      ],
      "metadata": {
        "id": "dFLNjEbhQcJW"
      }
    },
    {
      "cell_type": "code",
      "source": [
        "lista = [1,2,3, 4.2, 5.2, 10]"
      ],
      "metadata": {
        "id": "hgdK83xPQuCX"
      },
      "execution_count": null,
      "outputs": []
    },
    {
      "cell_type": "code",
      "source": [
        "dados1=np.array(lista)"
      ],
      "metadata": {
        "id": "1usMn-DOWxYs"
      },
      "execution_count": null,
      "outputs": []
    },
    {
      "cell_type": "code",
      "source": [
        "dados1"
      ],
      "metadata": {
        "id": "ALZSXTRuWxbv"
      },
      "execution_count": null,
      "outputs": []
    },
    {
      "cell_type": "code",
      "source": [
        "lista1 = [[1,2,3,4], [4,3,2,1]]"
      ],
      "metadata": {
        "id": "p-qPDHqIXTZB"
      },
      "execution_count": null,
      "outputs": []
    },
    {
      "cell_type": "code",
      "source": [
        "dados2=np.array(lista1)"
      ],
      "metadata": {
        "id": "2vp8WsqvXTau"
      },
      "execution_count": null,
      "outputs": []
    },
    {
      "cell_type": "code",
      "source": [
        "dados2"
      ],
      "metadata": {
        "id": "HwARqbktXTc-"
      },
      "execution_count": null,
      "outputs": []
    },
    {
      "cell_type": "markdown",
      "source": [
        "#Other ways to create array"
      ],
      "metadata": {
        "id": "jRLtJFwvXrcY"
      }
    },
    {
      "cell_type": "code",
      "source": [
        "dados0=np.zeros(10)"
      ],
      "metadata": {
        "id": "Rz39tkSiXTfs"
      },
      "execution_count": null,
      "outputs": []
    },
    {
      "cell_type": "code",
      "source": [
        "dados0"
      ],
      "metadata": {
        "id": "J_HMoQlnXTjW"
      },
      "execution_count": null,
      "outputs": []
    },
    {
      "cell_type": "code",
      "source": [
        "dados0=np.zeros((2,3))"
      ],
      "metadata": {
        "id": "2J3wQshFZftU"
      },
      "execution_count": null,
      "outputs": []
    },
    {
      "cell_type": "code",
      "source": [
        "dados0"
      ],
      "metadata": {
        "id": "qspFPCh0Zf49"
      },
      "execution_count": null,
      "outputs": []
    },
    {
      "cell_type": "code",
      "source": [
        "dados01=np.ones(10)"
      ],
      "metadata": {
        "id": "PPClGEcLaGTI"
      },
      "execution_count": null,
      "outputs": []
    },
    {
      "cell_type": "code",
      "source": [
        "dados01"
      ],
      "metadata": {
        "id": "B0mOQSCZaGVY"
      },
      "execution_count": null,
      "outputs": []
    },
    {
      "cell_type": "code",
      "source": [
        "dadosseq=np.arange(21)"
      ],
      "metadata": {
        "id": "EBp3UgSPaGbO"
      },
      "execution_count": null,
      "outputs": []
    },
    {
      "cell_type": "code",
      "source": [
        "dadosseq"
      ],
      "metadata": {
        "id": "mXm7bQ6TZgBA"
      },
      "execution_count": null,
      "outputs": []
    },
    {
      "cell_type": "code",
      "source": [
        "dadosseq2=np.arange(0,1000000,10000)"
      ],
      "metadata": {
        "id": "ZiwWXcwjade2"
      },
      "execution_count": null,
      "outputs": []
    },
    {
      "cell_type": "code",
      "source": [
        "dadosseq2"
      ],
      "metadata": {
        "id": "cgCf-JF0adlL"
      },
      "execution_count": null,
      "outputs": []
    },
    {
      "cell_type": "code",
      "source": [
        "dadosseq.dtype"
      ],
      "metadata": {
        "id": "3p8QA4nCadoI"
      },
      "execution_count": null,
      "outputs": []
    },
    {
      "cell_type": "code",
      "source": [
        "dadosseqf=dadosseq.astype(np.float64)"
      ],
      "metadata": {
        "id": "WnmqEEALbRZ4"
      },
      "execution_count": null,
      "outputs": []
    },
    {
      "cell_type": "code",
      "source": [
        "dadosseqf.dtype"
      ],
      "metadata": {
        "id": "H_0l1_16bRc7"
      },
      "execution_count": null,
      "outputs": []
    }
  ]
}