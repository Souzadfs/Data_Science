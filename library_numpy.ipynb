{
  "nbformat": 4,
  "nbformat_minor": 0,
  "metadata": {
    "colab": {
      "private_outputs": true,
      "provenance": [],
      "authorship_tag": "ABX9TyM61/w1Z3XL2y4xdfRyNMhn",
      "include_colab_link": true
    },
    "kernelspec": {
      "name": "python3",
      "display_name": "Python 3"
    },
    "language_info": {
      "name": "python"
    }
  },
  "cells": [
    {
      "cell_type": "markdown",
      "metadata": {
        "id": "view-in-github",
        "colab_type": "text"
      },
      "source": [
        "<a href=\"https://colab.research.google.com/github/Souzadfs/Data_Science/blob/main/library_numpy.ipynb\" target=\"_parent\"><img src=\"https://colab.research.google.com/assets/colab-badge.svg\" alt=\"Open In Colab\"/></a>"
      ]
    },
    {
      "cell_type": "code",
      "execution_count": null,
      "metadata": {
        "id": "YsHQNzf6OLYJ"
      },
      "outputs": [],
      "source": [
        "import numpy as np"
      ]
    },
    {
      "cell_type": "code",
      "source": [
        "dados=np.random.rand (2,3)"
      ],
      "metadata": {
        "id": "Okf6-5hkO4GV"
      },
      "execution_count": null,
      "outputs": []
    },
    {
      "cell_type": "markdown",
      "source": [
        "#Generate (2x3) NDarray ( two list with 3 elements)"
      ],
      "metadata": {
        "id": "KnPlM1ACPv0P"
      }
    },
    {
      "cell_type": "code",
      "source": [
        "dados"
      ],
      "metadata": {
        "id": "54kfMQTjO4JI"
      },
      "execution_count": null,
      "outputs": []
    },
    {
      "cell_type": "code",
      "source": [
        "dados.dtype"
      ],
      "metadata": {
        "id": "gcHGpC_hO4P0"
      },
      "execution_count": null,
      "outputs": []
    },
    {
      "cell_type": "code",
      "source": [
        "dados.shape"
      ],
      "metadata": {
        "id": "VQ1LZViSO4LF"
      },
      "execution_count": null,
      "outputs": []
    },
    {
      "cell_type": "code",
      "source": [
        "dados.ndim"
      ],
      "metadata": {
        "id": "MuUQBPiVQMDE"
      },
      "execution_count": null,
      "outputs": []
    },
    {
      "cell_type": "markdown",
      "source": [
        "#Creating an NDarray using the array fuction\n"
      ],
      "metadata": {
        "id": "dFLNjEbhQcJW"
      }
    },
    {
      "cell_type": "code",
      "source": [
        "lista = [1,2,3, 4.2, 5.2, 10]"
      ],
      "metadata": {
        "id": "hgdK83xPQuCX"
      },
      "execution_count": null,
      "outputs": []
    },
    {
      "cell_type": "code",
      "source": [
        "dados1=np.array(lista)"
      ],
      "metadata": {
        "id": "1usMn-DOWxYs"
      },
      "execution_count": null,
      "outputs": []
    },
    {
      "cell_type": "code",
      "source": [
        "dados1"
      ],
      "metadata": {
        "id": "ALZSXTRuWxbv"
      },
      "execution_count": null,
      "outputs": []
    },
    {
      "cell_type": "code",
      "source": [
        "lista1 = [[1,2,3,4], [4,3,2,1]]"
      ],
      "metadata": {
        "id": "p-qPDHqIXTZB"
      },
      "execution_count": null,
      "outputs": []
    },
    {
      "cell_type": "code",
      "source": [
        "dados2=np.array(lista1)"
      ],
      "metadata": {
        "id": "2vp8WsqvXTau"
      },
      "execution_count": null,
      "outputs": []
    },
    {
      "cell_type": "code",
      "source": [
        "dados2"
      ],
      "metadata": {
        "id": "HwARqbktXTc-"
      },
      "execution_count": null,
      "outputs": []
    },
    {
      "cell_type": "markdown",
      "source": [
        "#Other ways to create array"
      ],
      "metadata": {
        "id": "jRLtJFwvXrcY"
      }
    },
    {
      "cell_type": "code",
      "source": [
        "dados0=np.zeros(10)"
      ],
      "metadata": {
        "id": "Rz39tkSiXTfs"
      },
      "execution_count": null,
      "outputs": []
    },
    {
      "cell_type": "code",
      "source": [
        "dados0"
      ],
      "metadata": {
        "id": "J_HMoQlnXTjW"
      },
      "execution_count": null,
      "outputs": []
    },
    {
      "cell_type": "code",
      "source": [
        "dados0=np.zeros((2,3))"
      ],
      "metadata": {
        "id": "2J3wQshFZftU"
      },
      "execution_count": null,
      "outputs": []
    },
    {
      "cell_type": "code",
      "source": [
        "dados0"
      ],
      "metadata": {
        "id": "qspFPCh0Zf49"
      },
      "execution_count": null,
      "outputs": []
    },
    {
      "cell_type": "code",
      "source": [
        "dados01=np.ones(10)"
      ],
      "metadata": {
        "id": "PPClGEcLaGTI"
      },
      "execution_count": null,
      "outputs": []
    },
    {
      "cell_type": "code",
      "source": [
        "dados01"
      ],
      "metadata": {
        "id": "B0mOQSCZaGVY"
      },
      "execution_count": null,
      "outputs": []
    },
    {
      "cell_type": "code",
      "source": [
        "dadosseq=np.arange(21)"
      ],
      "metadata": {
        "id": "EBp3UgSPaGbO"
      },
      "execution_count": null,
      "outputs": []
    },
    {
      "cell_type": "code",
      "source": [
        "dadosseq"
      ],
      "metadata": {
        "id": "mXm7bQ6TZgBA"
      },
      "execution_count": null,
      "outputs": []
    },
    {
      "cell_type": "code",
      "source": [
        "dadosseq2=np.arange(0,1000000,10000)"
      ],
      "metadata": {
        "id": "ZiwWXcwjade2"
      },
      "execution_count": null,
      "outputs": []
    },
    {
      "cell_type": "code",
      "source": [
        "dadosseq2"
      ],
      "metadata": {
        "id": "cgCf-JF0adlL"
      },
      "execution_count": null,
      "outputs": []
    },
    {
      "cell_type": "code",
      "source": [
        "dadosseq.dtype"
      ],
      "metadata": {
        "id": "3p8QA4nCadoI"
      },
      "execution_count": null,
      "outputs": []
    },
    {
      "cell_type": "code",
      "source": [
        "dadosseqf=dadosseq.astype(np.float64)"
      ],
      "metadata": {
        "id": "WnmqEEALbRZ4"
      },
      "execution_count": null,
      "outputs": []
    },
    {
      "cell_type": "code",
      "source": [
        "dadosseqf.dtype"
      ],
      "metadata": {
        "id": "H_0l1_16bRc7"
      },
      "execution_count": null,
      "outputs": []
    },
    {
      "cell_type": "code",
      "source": [
        "dados4=np.array([[1,3,4,8],[2,5,6,7]])"
      ],
      "metadata": {
        "id": "cr2AxlKdwKc9"
      },
      "execution_count": null,
      "outputs": []
    },
    {
      "cell_type": "code",
      "source": [
        "dados4*dados4"
      ],
      "metadata": {
        "id": "yV1vd2oowcqY"
      },
      "execution_count": null,
      "outputs": []
    },
    {
      "cell_type": "code",
      "source": [
        "dados5=dados4+dados4"
      ],
      "metadata": {
        "id": "4XgUf92JwcuN"
      },
      "execution_count": null,
      "outputs": []
    },
    {
      "cell_type": "code",
      "source": [
        "dados5"
      ],
      "metadata": {
        "id": "Dy7gO50-wcxL"
      },
      "execution_count": null,
      "outputs": []
    },
    {
      "cell_type": "code",
      "source": [
        "dados5 == dados4"
      ],
      "metadata": {
        "id": "Yxt0D0dbxByc"
      },
      "execution_count": null,
      "outputs": []
    },
    {
      "cell_type": "code",
      "source": [
        "dados5 < dados4"
      ],
      "metadata": {
        "id": "b8jQV92PxGfI"
      },
      "execution_count": null,
      "outputs": []
    },
    {
      "cell_type": "code",
      "source": [
        "dados5 > dados4"
      ],
      "metadata": {
        "id": "MC0sr4BuxK5_"
      },
      "execution_count": null,
      "outputs": []
    },
    {
      "cell_type": "code",
      "source": [
        "fatiardados=dadosseq [2:]"
      ],
      "metadata": {
        "id": "GyUpIM4hxLBC"
      },
      "execution_count": null,
      "outputs": []
    },
    {
      "cell_type": "code",
      "source": [
        "fatiardados"
      ],
      "metadata": {
        "id": "-JGb9R3IxLE_"
      },
      "execution_count": null,
      "outputs": []
    },
    {
      "cell_type": "code",
      "source": [
        "fatiardados[1]=200"
      ],
      "metadata": {
        "id": "IWdRVHqn1OYo"
      },
      "execution_count": null,
      "outputs": []
    },
    {
      "cell_type": "code",
      "source": [
        "fatiardados"
      ],
      "metadata": {
        "id": "SNOy_pft1KG2"
      },
      "execution_count": null,
      "outputs": []
    },
    {
      "cell_type": "code",
      "source": [
        "dadosseq"
      ],
      "metadata": {
        "id": "Kks7Ixyw1Zr4"
      },
      "execution_count": null,
      "outputs": []
    },
    {
      "cell_type": "code",
      "source": [
        "fatia2 = dadosseq[2:9].copy()"
      ],
      "metadata": {
        "id": "NVq4M3fR1f68"
      },
      "execution_count": null,
      "outputs": []
    },
    {
      "cell_type": "code",
      "source": [
        "fatia2"
      ],
      "metadata": {
        "id": "6YZOc2T_1grM"
      },
      "execution_count": null,
      "outputs": []
    },
    {
      "cell_type": "code",
      "source": [
        "dadosseq"
      ],
      "metadata": {
        "id": "HYaIpu7IxLHH"
      },
      "execution_count": null,
      "outputs": []
    },
    {
      "cell_type": "code",
      "source": [
        "dados6=np.array([[1,3,4],[7,8,4],[12,23,32]])"
      ],
      "metadata": {
        "id": "EXYH-3Ah2GfA"
      },
      "execution_count": null,
      "outputs": []
    },
    {
      "cell_type": "code",
      "source": [
        "dados6"
      ],
      "metadata": {
        "id": "subfo9Tt2Gqe"
      },
      "execution_count": null,
      "outputs": []
    },
    {
      "cell_type": "code",
      "source": [
        "dados6[2,1]"
      ],
      "metadata": {
        "id": "IJHIKnqL2Gyv"
      },
      "execution_count": null,
      "outputs": []
    },
    {
      "cell_type": "code",
      "source": [
        "mascara=(dadosseq<20)"
      ],
      "metadata": {
        "id": "zEj-fzUN3XsT"
      },
      "execution_count": null,
      "outputs": []
    },
    {
      "cell_type": "code",
      "source": [
        "mascara"
      ],
      "metadata": {
        "id": "BeemkJwt3YXN"
      },
      "execution_count": null,
      "outputs": []
    },
    {
      "cell_type": "code",
      "source": [
        "dadosseq[dadosseq>10]=999"
      ],
      "metadata": {
        "id": "KJd13l503Yo5"
      },
      "execution_count": null,
      "outputs": []
    },
    {
      "cell_type": "code",
      "source": [
        "dadosseq"
      ],
      "metadata": {
        "id": "fdfzklpj3Y1e"
      },
      "execution_count": null,
      "outputs": []
    },
    {
      "cell_type": "code",
      "source": [
        "dados9 = np.arange(110).reshape((11, 10))"
      ],
      "metadata": {
        "id": "GnzH9m_N4TWx"
      },
      "execution_count": null,
      "outputs": []
    },
    {
      "cell_type": "code",
      "source": [
        "dados9"
      ],
      "metadata": {
        "id": "IJ5y761h41ob"
      },
      "execution_count": null,
      "outputs": []
    },
    {
      "cell_type": "code",
      "source": [
        "dados9.T"
      ],
      "metadata": {
        "id": "halx3qIF45xe"
      },
      "execution_count": null,
      "outputs": []
    }
  ]
}