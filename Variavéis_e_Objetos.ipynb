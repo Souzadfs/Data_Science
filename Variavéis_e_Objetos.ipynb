{
  "nbformat": 4,
  "nbformat_minor": 0,
  "metadata": {
    "colab": {
      "private_outputs": true,
      "provenance": [],
      "authorship_tag": "ABX9TyNmaOKYn0SLgP8dSsffqA2l",
      "include_colab_link": true
    },
    "kernelspec": {
      "name": "python3",
      "display_name": "Python 3"
    },
    "language_info": {
      "name": "python"
    }
  },
  "cells": [
    {
      "cell_type": "markdown",
      "metadata": {
        "id": "view-in-github",
        "colab_type": "text"
      },
      "source": [
        "<a href=\"https://colab.research.google.com/github/Souzadfs/Data_Science/blob/main/Variav%C3%A9is_e_Objetos.ipynb\" target=\"_parent\"><img src=\"https://colab.research.google.com/assets/colab-badge.svg\" alt=\"Open In Colab\"/></a>"
      ]
    },
    {
      "cell_type": "code",
      "execution_count": null,
      "metadata": {
        "id": "93leoshruUt8"
      },
      "outputs": [],
      "source": [
        "x = 1\n",
        "print(x)\n",
        "y = 3.1\n",
        "print(y)\n",
        "n = 'Python'\n",
        "print(n)\n",
        "a = True\n",
        "b = False\n",
        "print (a)"
      ]
    },
    {
      "cell_type": "code",
      "source": [],
      "metadata": {
        "id": "dm4cH45AzV86"
      },
      "execution_count": null,
      "outputs": []
    }
  ]
}