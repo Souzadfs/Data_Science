{
  "nbformat": 4,
  "nbformat_minor": 0,
  "metadata": {
    "colab": {
      "private_outputs": true,
      "provenance": [],
      "authorship_tag": "ABX9TyM8i4EbBrFPpij1QCQXDhCH",
      "include_colab_link": true
    },
    "kernelspec": {
      "name": "python3",
      "display_name": "Python 3"
    },
    "language_info": {
      "name": "python"
    }
  },
  "cells": [
    {
      "cell_type": "markdown",
      "metadata": {
        "id": "view-in-github",
        "colab_type": "text"
      },
      "source": [
        "<a href=\"https://colab.research.google.com/github/Souzadfs/Data_Science/blob/main/Variav%C3%A9is_e_Objetos.ipynb\" target=\"_parent\"><img src=\"https://colab.research.google.com/assets/colab-badge.svg\" alt=\"Open In Colab\"/></a>"
      ]
    },
    {
      "cell_type": "code",
      "execution_count": null,
      "metadata": {
        "id": "93leoshruUt8"
      },
      "outputs": [],
      "source": [
        "num = 1\n",
        "print(x)\n",
        "flt = 3.1\n",
        "print(y)\n",
        "n = 'Python'\n",
        "print(n)\n",
        "a = True\n",
        "b = False\n",
        "print (a)"
      ]
    },
    {
      "cell_type": "code",
      "source": [
        "x = 10\n",
        "y = 30\n",
        "z = 2\n",
        "r = (x * y) / z\n",
        "print(r)"
      ],
      "metadata": {
        "id": "dm4cH45AzV86"
      },
      "execution_count": null,
      "outputs": []
    },
    {
      "cell_type": "code",
      "source": [
        "name = ('Texto string')\n",
        "print(f'{name},{x},{y},{z}')"
      ],
      "metadata": {
        "id": "gs1AOEOe0Gwq"
      },
      "execution_count": null,
      "outputs": []
    },
    {
      "cell_type": "code",
      "source": [
        "print(type(x))\n",
        "print(type(name))"
      ],
      "metadata": {
        "id": "vIMvrnwH015L"
      },
      "execution_count": null,
      "outputs": []
    },
    {
      "cell_type": "code",
      "source": [
        "print('Informe um valor: ')\n",
        "i = input()\n",
        "print(type(i))"
      ],
      "metadata": {
        "id": "DX3Hcx2y1G4i"
      },
      "execution_count": null,
      "outputs": []
    },
    {
      "cell_type": "code",
      "source": [
        "i = input('Informe um valor: ')"
      ],
      "metadata": {
        "id": "gw0gl4Us1u1Z"
      },
      "execution_count": null,
      "outputs": []
    },
    {
      "cell_type": "code",
      "source": [
        "var = input('Informe o valor: ')\n",
        "h = int(var)\n",
        "print(type(h))"
      ],
      "metadata": {
        "id": "3ZixPzeg1-eT"
      },
      "execution_count": null,
      "outputs": []
    },
    {
      "cell_type": "code",
      "source": [
        "var = input('Informe o valor: ')\n",
        "h = float(var)\n",
        "print(type(h))"
      ],
      "metadata": {
        "id": "WUjxrfYY2mIr"
      },
      "execution_count": null,
      "outputs": []
    }
  ]
}