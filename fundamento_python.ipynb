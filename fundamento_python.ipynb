{
  "nbformat": 4,
  "nbformat_minor": 0,
  "metadata": {
    "colab": {
      "provenance": [],
      "authorship_tag": "ABX9TyM72Kn+40cT6SZ9xIYZnnsI",
      "include_colab_link": true
    },
    "kernelspec": {
      "name": "python3",
      "display_name": "Python 3"
    },
    "language_info": {
      "name": "python"
    }
  },
  "cells": [
    {
      "cell_type": "markdown",
      "metadata": {
        "id": "view-in-github",
        "colab_type": "text"
      },
      "source": [
        "<a href=\"https://colab.research.google.com/github/Souzadfs/Data_Science/blob/main/fundamento_python.ipynb\" target=\"_parent\"><img src=\"https://colab.research.google.com/assets/colab-badge.svg\" alt=\"Open In Colab\"/></a>"
      ]
    },
    {
      "cell_type": "code",
      "execution_count": 2,
      "metadata": {
        "id": "wwDXHExRsdhf",
        "colab": {
          "base_uri": "https://localhost:8080/"
        },
        "outputId": "abe37d1b-d043-4e06-db57-cf12579711a3"
      },
      "outputs": [
        {
          "output_type": "execute_result",
          "data": {
            "text/plain": [
              "range(0, 10)"
            ]
          },
          "metadata": {},
          "execution_count": 2
        }
      ],
      "source": [
        "range(0, 10, 1)"
      ]
    },
    {
      "cell_type": "code",
      "source": [
        "list(range(5,10))"
      ],
      "metadata": {
        "colab": {
          "base_uri": "https://localhost:8080/"
        },
        "id": "t7O6AHkFuxAb",
        "outputId": "77144a0a-f798-4f77-b4ae-16cb7d98f701"
      },
      "execution_count": 6,
      "outputs": [
        {
          "output_type": "execute_result",
          "data": {
            "text/plain": [
              "[5, 6, 7, 8, 9]"
            ]
          },
          "metadata": {},
          "execution_count": 6
        }
      ]
    },
    {
      "cell_type": "markdown",
      "source": [
        "FOR"
      ],
      "metadata": {
        "id": "bt2VOzVkvPY4"
      }
    },
    {
      "cell_type": "code",
      "source": [
        "range(100)\n",
        "for i in range(100):\n",
        "  if i % 2 == 0:\n",
        "    print('{} é par'.format(i))\n",
        "  else:\n",
        "    print('{} é impar'.format(i))"
      ],
      "metadata": {
        "colab": {
          "base_uri": "https://localhost:8080/"
        },
        "id": "qk_xoFwSvCi4",
        "outputId": "2ff5dda3-55bb-4589-c705-255992c46998"
      },
      "execution_count": 8,
      "outputs": [
        {
          "output_type": "stream",
          "name": "stdout",
          "text": [
            "0 é par\n",
            "1 é impar\n",
            "2 é par\n",
            "3 é impar\n",
            "4 é par\n",
            "5 é impar\n",
            "6 é par\n",
            "7 é impar\n",
            "8 é par\n",
            "9 é impar\n",
            "10 é par\n",
            "11 é impar\n",
            "12 é par\n",
            "13 é impar\n",
            "14 é par\n",
            "15 é impar\n",
            "16 é par\n",
            "17 é impar\n",
            "18 é par\n",
            "19 é impar\n",
            "20 é par\n",
            "21 é impar\n",
            "22 é par\n",
            "23 é impar\n",
            "24 é par\n",
            "25 é impar\n",
            "26 é par\n",
            "27 é impar\n",
            "28 é par\n",
            "29 é impar\n",
            "30 é par\n",
            "31 é impar\n",
            "32 é par\n",
            "33 é impar\n",
            "34 é par\n",
            "35 é impar\n",
            "36 é par\n",
            "37 é impar\n",
            "38 é par\n",
            "39 é impar\n",
            "40 é par\n",
            "41 é impar\n",
            "42 é par\n",
            "43 é impar\n",
            "44 é par\n",
            "45 é impar\n",
            "46 é par\n",
            "47 é impar\n",
            "48 é par\n",
            "49 é impar\n",
            "50 é par\n",
            "51 é impar\n",
            "52 é par\n",
            "53 é impar\n",
            "54 é par\n",
            "55 é impar\n",
            "56 é par\n",
            "57 é impar\n",
            "58 é par\n",
            "59 é impar\n",
            "60 é par\n",
            "61 é impar\n",
            "62 é par\n",
            "63 é impar\n",
            "64 é par\n",
            "65 é impar\n",
            "66 é par\n",
            "67 é impar\n",
            "68 é par\n",
            "69 é impar\n",
            "70 é par\n",
            "71 é impar\n",
            "72 é par\n",
            "73 é impar\n",
            "74 é par\n",
            "75 é impar\n",
            "76 é par\n",
            "77 é impar\n",
            "78 é par\n",
            "79 é impar\n",
            "80 é par\n",
            "81 é impar\n",
            "82 é par\n",
            "83 é impar\n",
            "84 é par\n",
            "85 é impar\n",
            "86 é par\n",
            "87 é impar\n",
            "88 é par\n",
            "89 é impar\n",
            "90 é par\n",
            "91 é impar\n",
            "92 é par\n",
            "93 é impar\n",
            "94 é par\n",
            "95 é impar\n",
            "96 é par\n",
            "97 é impar\n",
            "98 é par\n",
            "99 é impar\n"
          ]
        }
      ]
    }
  ]
}